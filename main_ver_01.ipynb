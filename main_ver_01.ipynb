{
 "cells": [
  {
   "cell_type": "code",
   "execution_count": 10,
   "metadata": {},
   "outputs": [],
   "source": [
    "import sounddevice as sd\n",
    "import vosk\n",
    "import json\n",
    "import sys\n",
    "import threading\n",
    "import queue\n",
    "import os"
   ]
  },
  {
   "cell_type": "code",
   "execution_count": 15,
   "metadata": {},
   "outputs": [],
   "source": [
    "model_path1 = os.path.join(os.getcwd(),'models','VOSK-SMALL-INDIAN-ENGLISH-0.4')\n"
   ]
  },
  {
   "cell_type": "code",
   "execution_count": 16,
   "metadata": {},
   "outputs": [],
   "source": [
    "model = vosk.Model(model_path1)\n",
    "recognizer = vosk.KaldiRecognizer(model, 16000)"
   ]
  },
  {
   "cell_type": "code",
   "execution_count": 17,
   "metadata": {},
   "outputs": [
    {
     "name": "stdout",
     "output_type": "stream",
     "text": [
      "Listening...\n",
      "hello\n",
      "how\n",
      "are\n",
      "you\n",
      "what\n",
      "are\n",
      "you\n",
      "doing\n",
      "a\n",
      "p\n",
      "see\n",
      "see\n",
      "see\n",
      "d\n",
      "f\n",
      "oh\n",
      "Stopped listening\n"
     ]
    }
   ],
   "source": [
    "buffered_text = \"\"\n",
    "audio_queue = queue.Queue()\n",
    "\n",
    "def callback(indata, frames, time, status):\n",
    "    if status:\n",
    "        print(status, file=sys.stderr)\n",
    "    audio_queue.put(bytes(indata))\n",
    "\n",
    "def recognition_thread():\n",
    "    global buffered_text\n",
    "    while True:\n",
    "        audio_data = audio_queue.get()\n",
    "        if recognizer.AcceptWaveform(audio_data):\n",
    "            result = recognizer.Result()\n",
    "            result_dict = json.loads(result)\n",
    "            text = result_dict.get(\"text\", \"\")\n",
    "            if text:\n",
    "                words = text.split()\n",
    "                for word in words:\n",
    "                    print(word)\n",
    "                buffered_text = \"\" \n",
    "        else:\n",
    "            partial_result = recognizer.PartialResult()\n",
    "            result_dict = json.loads(partial_result)\n",
    "            partial_text = result_dict.get(\"partial\", \"\")\n",
    "            buffered_text += partial_text\n",
    "\n",
    "recognition_thread = threading.Thread(target=recognition_thread, daemon=True)\n",
    "recognition_thread.start()\n",
    "\n",
    "with sd.RawInputStream(samplerate=16000, blocksize=4096, dtype='int16', channels=1, callback=callback):\n",
    "    print(\"Listening...\")\n",
    "    try:\n",
    "        while True:\n",
    "            sd.sleep(1000)\n",
    "    except KeyboardInterrupt:\n",
    "        print(\"Stopped listening\")"
   ]
  },
  {
   "cell_type": "code",
   "execution_count": null,
   "metadata": {},
   "outputs": [],
   "source": []
  }
 ],
 "metadata": {
  "kernelspec": {
   "display_name": "Python 3",
   "language": "python",
   "name": "python3"
  },
  "language_info": {
   "codemirror_mode": {
    "name": "ipython",
    "version": 3
   },
   "file_extension": ".py",
   "mimetype": "text/x-python",
   "name": "python",
   "nbconvert_exporter": "python",
   "pygments_lexer": "ipython3",
   "version": "3.11.0"
  }
 },
 "nbformat": 4,
 "nbformat_minor": 2
}
