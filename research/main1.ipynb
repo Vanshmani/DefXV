{
 "cells": [
  {
   "cell_type": "code",
   "execution_count": 1,
   "metadata": {},
   "outputs": [],
   "source": [
    "import os\n",
    "import io\n",
    "import numpy as np\n",
    "import pandas as pd\n",
    "from PIL import Image\n",
    "import cv2 as cv\n",
    "import matplotlib.pyplot as plt\n",
    "import base64\n",
    "import json\n",
    "import time"
   ]
  },
  {
   "cell_type": "code",
   "execution_count": 2,
   "metadata": {},
   "outputs": [],
   "source": [
    "dataset_path = \"D:\\SpectoV\\Hand_Gesture_Recognition\\data\\level_1_data\\ASL_Data_AtoZ_&_0to9\""
   ]
  },
  {
   "cell_type": "code",
   "execution_count": 22,
   "metadata": {},
   "outputs": [],
   "source": [
    "def image_to_base64(image_array):\n",
    "    pil_img = Image.fromarray(image_array)\n",
    "    buffer = io.BytesIO()\n",
    "    pil_img.save(buffer, format=\"PNG\")\n",
    "    return base64.b64encode(buffer.getvalue()).decode(\"utf-8\")"
   ]
  },
  {
   "cell_type": "code",
   "execution_count": 25,
   "metadata": {},
   "outputs": [],
   "source": [
    "def load_images_from_folder(folder):\n",
    "    image_dict = {}\n",
    "    for filename in os.listdir(folder):\n",
    "        if filename.endswith(('.png', '.jpg', '.jpeg')):\n",
    "            sign = os.path.splitext(filename)[0] \n",
    "            img_path = os.path.join(folder, filename)\n",
    "            image = Image.open(img_path)\n",
    "            image_array = np.array(image)\n",
    "            image_dict[sign] = image_array\n",
    "    return image_dict"
   ]
  },
  {
   "cell_type": "code",
   "execution_count": 24,
   "metadata": {},
   "outputs": [],
   "source": [
    "def convert_images_to_base64(image_dict):\n",
    "    base64_dict = {}\n",
    "    for sign, image_array in image_dict.items():\n",
    "        base64_dict[sign] = image_to_base64(image_array)\n",
    "    return base64_dict"
   ]
  },
  {
   "cell_type": "code",
   "execution_count": 23,
   "metadata": {},
   "outputs": [],
   "source": [
    "def save_dict_as_json(data_dict, output_path):\n",
    "    with open(output_path, 'w') as json_file:\n",
    "        json.dump(data_dict, json_file)"
   ]
  },
  {
   "cell_type": "code",
   "execution_count": 45,
   "metadata": {},
   "outputs": [],
   "source": [
    "output_json_path = r\"D:\\SpectoV\\Hand_Gesture_Recognition\\research\\level_2\\asl_signs.json\""
   ]
  },
  {
   "cell_type": "code",
   "execution_count": 46,
   "metadata": {},
   "outputs": [],
   "source": [
    "def main(dataset_path, output_json_path):\n",
    "    image_dict = load_images_from_folder(dataset_path)\n",
    "    base64_dict = convert_images_to_base64(image_dict)\n",
    "    save_dict_as_json(base64_dict, output_json_path)\n",
    "    print(f\"Data saved to {output_json_path}\")"
   ]
  },
  {
   "cell_type": "code",
   "execution_count": 47,
   "metadata": {},
   "outputs": [
    {
     "name": "stdout",
     "output_type": "stream",
     "text": [
      "Data saved to D:\\SpectoV\\Hand_Gesture_Recognition\\research\\level_2\\asl_signs.json\n"
     ]
    }
   ],
   "source": [
    "main(dataset_path,output_json_path)"
   ]
  },
  {
   "cell_type": "code",
   "execution_count": 2,
   "metadata": {},
   "outputs": [],
   "source": [
    "def base64_to_image(base64_str):\n",
    "    image_data = base64.b64decode(base64_str)\n",
    "    image = Image.open(io.BytesIO(image_data))\n",
    "    return image"
   ]
  },
  {
   "cell_type": "code",
   "execution_count": 3,
   "metadata": {},
   "outputs": [],
   "source": [
    "def load_json(json_path):\n",
    "    with open(json_path, 'r') as json_file:\n",
    "        data_dict = json.load(json_file)\n",
    "    return data_dict"
   ]
  },
  {
   "cell_type": "code",
   "execution_count": 4,
   "metadata": {},
   "outputs": [],
   "source": [
    "def display_images_for_string(input_string, data_dict):\n",
    "    input_string = input_string.upper()\n",
    "    for char in input_string:\n",
    "        if char in data_dict:\n",
    "            image_base64 = data_dict[char]\n",
    "            image = base64_to_image(image_base64)\n",
    "            image.show()\n",
    "            time.sleep(1)\n",
    "            image.close()\n",
    "        else: \n",
    "            time.sleep(1)"
   ]
  },
  {
   "cell_type": "code",
   "execution_count": 5,
   "metadata": {},
   "outputs": [],
   "source": [
    "def main():\n",
    "    json_path = r\"./asl_signs.json\"\n",
    "    data_dict = load_json(json_path)\n",
    "    input_string = input(\"Enter a string: \")\n",
    "    display_images_for_string(input_string, data_dict)"
   ]
  },
  {
   "cell_type": "code",
   "execution_count": 7,
   "metadata": {},
   "outputs": [],
   "source": [
    "main()"
   ]
  }
 ],
 "metadata": {
  "kernelspec": {
   "display_name": "Python 3",
   "language": "python",
   "name": "python3"
  },
  "language_info": {
   "codemirror_mode": {
    "name": "ipython",
    "version": 3
   },
   "file_extension": ".py",
   "mimetype": "text/x-python",
   "name": "python",
   "nbconvert_exporter": "python",
   "pygments_lexer": "ipython3",
   "version": "3.12.3"
  }
 },
 "nbformat": 4,
 "nbformat_minor": 2
}
